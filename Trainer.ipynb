{
 "cells": [
  {
   "cell_type": "markdown",
   "metadata": {},
   "source": [
    "## Customized training"
   ]
  },
  {
   "cell_type": "code",
   "execution_count": 1,
   "metadata": {
    "scrolled": true
   },
   "outputs": [
    {
     "name": "stderr",
     "output_type": "stream",
     "text": [
      "** fvcore version of PathManager will be deprecated soon. **\n",
      "** Please migrate to the version in iopath repo. **\n",
      "https://github.com/facebookresearch/iopath \n",
      "\n"
     ]
    }
   ],
   "source": [
    "from src.models.model import *\n",
    "from src.datasets.mydataset import *"
   ]
  },
  {
   "cell_type": "code",
   "execution_count": 2,
   "metadata": {},
   "outputs": [],
   "source": [
    "from classy_vision.dataset import build_dataset\n",
    "from classy_vision.generic.util import load_json\n",
    "from classy_vision.meters import build_meters, AccuracyMeter, VideoAccuracyMeter\n",
    "from classy_vision.tasks import ClassificationTask\n",
    "from classy_vision.optim import build_optimizer\n",
    "from classy_vision.losses import build_loss\n",
    "from classy_vision.models import build_model"
   ]
  },
  {
   "cell_type": "code",
   "execution_count": 3,
   "metadata": {},
   "outputs": [],
   "source": [
    "import json\n",
    "config = load_json('configs/resnet50.json')"
   ]
  },
  {
   "cell_type": "code",
   "execution_count": 4,
   "metadata": {},
   "outputs": [
    {
     "data": {
      "text/plain": [
       "{'name': 'classification_task',\n",
       " 'num_epochs': 90,\n",
       " 'loss': {'name': 'CrossEntropyLoss'},\n",
       " 'dataset': {'train': {'name': 'web_dataset',\n",
       "   'batchsize_per_replica': 256,\n",
       "   'num_samples': None,\n",
       "   'shuffle': True,\n",
       "   'img_folder': '/home/l/liny/ruofan/detectron2-1_website/datasets/train_imgs',\n",
       "   'annot_path': '/home/l/liny/ruofan/detectron2-1_website/datasets/train_coords.txt'},\n",
       "  'test': {'name': 'web_dataset',\n",
       "   'batchsize_per_replica': 256,\n",
       "   'num_samples': None,\n",
       "   'shuffle': False,\n",
       "   'img_folder': '/home/l/liny/ruofan/detectron2-1_website/datasets/val_imgs',\n",
       "   'annot_path': '/home/l/liny/ruofan/detectron2-1_website/datasets/val_coords.txt'}},\n",
       " 'meters': {'accuracy': {'topk': [1]}},\n",
       " 'model': {'name': 'my_model',\n",
       "  'num_classes': 2,\n",
       "  'grid_num': 10,\n",
       "  'input_ch_size': 9},\n",
       " 'optimizer': {'name': 'sgd',\n",
       "  'param_schedulers': {'lr': {'name': 'step', 'values': [0.1, 0.01, 0.001]}},\n",
       "  'weight_decay': 0.0001,\n",
       "  'momentum': 0.9}}"
      ]
     },
     "execution_count": 4,
     "metadata": {},
     "output_type": "execute_result"
    }
   ],
   "source": [
    "config"
   ]
  },
  {
   "cell_type": "code",
   "execution_count": 5,
   "metadata": {
    "scrolled": true
   },
   "outputs": [],
   "source": [
    "# Build dataset\n",
    "datasets = {}\n",
    "datasets[\"train\"] = build_dataset(config[\"dataset\"][\"train\"])\n",
    "datasets[\"test\"] = build_dataset(config[\"dataset\"][\"test\"])"
   ]
  },
  {
   "cell_type": "code",
   "execution_count": 6,
   "metadata": {},
   "outputs": [],
   "source": [
    "# Build model\n",
    "model = build_model(config[\"model\"])"
   ]
  },
  {
   "cell_type": "code",
   "execution_count": 7,
   "metadata": {},
   "outputs": [],
   "source": [
    "# Build evaluation metric\n",
    "meters = build_meters(config[\"meters\"])"
   ]
  },
  {
   "cell_type": "code",
   "execution_count": 8,
   "metadata": {},
   "outputs": [],
   "source": [
    "# Build loss, optimizer\n",
    "loss = build_loss(config[\"loss\"])\n",
    "num_epochs = config[\"num_epochs\"]\n",
    "optimizer = build_optimizer(config[\"optimizer\"])\n",
    "\n",
    "task = (\n",
    "    ClassificationTask()\n",
    "    .set_loss(loss)\n",
    "    .set_model(model)\n",
    "    .set_optimizer(optimizer)\n",
    "    .set_meters(meters)\n",
    "    .set_num_epochs(num_epochs)\n",
    ") \n",
    "\n",
    "for phase in [\"train\", \"test\"]:\n",
    "    task.set_dataset(datasets[phase], phase)"
   ]
  },
  {
   "cell_type": "code",
   "execution_count": null,
   "metadata": {},
   "outputs": [],
   "source": [
    "import time\n",
    "import os\n",
    "\n",
    "from classy_vision.trainer import LocalTrainer\n",
    "from classy_vision.hooks import CheckpointHook\n",
    "from classy_vision.hooks import LossLrMeterLoggingHook\n",
    "\n",
    "hooks = [LossLrMeterLoggingHook(log_freq=4)]\n",
    "\n",
    "checkpoint_dir = f\"./output/classy_checkpoint_{time.time()}\"\n",
    "os.mkdir(checkpoint_dir)\n",
    "hooks.append(CheckpointHook(checkpoint_dir, input_args={}))\n",
    "\n",
    "task = task.set_hooks(hooks)\n",
    "\n",
    "trainer = LocalTrainer()\n",
    "trainer.train(task)"
   ]
  },
  {
   "cell_type": "code",
   "execution_count": null,
   "metadata": {},
   "outputs": [],
   "source": [
    "import torch\n",
    "x = torch.randn((1, 9, 10, 10))\n",
    "with torch.no_grad():\n",
    "    y_hat = model(x)\n",
    "\n",
    "y_hat"
   ]
  }
 ],
 "metadata": {
  "kernelspec": {
   "display_name": "Python 3",
   "language": "python",
   "name": "python3"
  },
  "language_info": {
   "codemirror_mode": {
    "name": "ipython",
    "version": 3
   },
   "file_extension": ".py",
   "mimetype": "text/x-python",
   "name": "python",
   "nbconvert_exporter": "python",
   "pygments_lexer": "ipython3",
   "version": "3.6.12"
  }
 },
 "nbformat": 4,
 "nbformat_minor": 4
}
