{
 "cells": [
  {
   "cell_type": "markdown",
   "metadata": {},
   "source": [
    "## Customized training"
   ]
  },
  {
   "cell_type": "code",
   "execution_count": 1,
   "metadata": {
    "scrolled": true
   },
   "outputs": [
    {
     "name": "stderr",
     "output_type": "stream",
     "text": [
      "** fvcore version of PathManager will be deprecated soon. **\n",
      "** Please migrate to the version in iopath repo. **\n",
      "https://github.com/facebookresearch/iopath \n",
      "\n"
     ]
    }
   ],
   "source": [
    "from src.models.model import *\n",
    "from src.datasets.mydataset import *"
   ]
  },
  {
   "cell_type": "code",
   "execution_count": 2,
   "metadata": {},
   "outputs": [],
   "source": [
    "from classy_vision.dataset import build_dataset\n",
    "from classy_vision.generic.util import load_json\n",
    "from classy_vision.meters import build_meters, AccuracyMeter, VideoAccuracyMeter\n",
    "from classy_vision.tasks import ClassificationTask\n",
    "from classy_vision.optim import build_optimizer\n",
    "from classy_vision.losses import build_loss\n",
    "from classy_vision.models import build_model"
   ]
  },
  {
   "cell_type": "code",
   "execution_count": 3,
   "metadata": {},
   "outputs": [],
   "source": [
    "import json\n",
    "config = load_json('configs/resnet50.json')"
   ]
  },
  {
   "cell_type": "code",
   "execution_count": 7,
   "metadata": {},
   "outputs": [],
   "source": [
    "# Build dataset\n",
    "datasets = {}\n",
    "datasets[\"train\"] = build_dataset(config[\"dataset\"][\"train\"])\n",
    "datasets[\"test\"] = build_dataset(config[\"dataset\"][\"test\"])\n",
    "\n",
    "# Build model\n",
    "model = build_model(config[\"model\"])\n",
    "\n",
    "# Build evaluation metric\n",
    "meters = build_meters(config[\"meters\"])\n",
    "\n",
    "# Build loss, optimizer\n",
    "loss = build_loss(config[\"loss\"])\n",
    "num_epochs = config[\"num_epochs\"]\n",
    "optimizer = build_optimizer(config[\"optimizer\"])\n",
    "\n",
    "task = (\n",
    "    ClassificationTask()\n",
    "    .set_loss(loss)\n",
    "    .set_model(model)\n",
    "    .set_optimizer(optimizer)\n",
    "    .set_meters(meters)\n",
    "    .set_num_epochs(num_epochs)\n",
    ") \n",
    "\n",
    "for phase in [\"train\", \"test\"]:\n",
    "    task.set_dataset(datasets[phase], phase)"
   ]
  },
  {
   "cell_type": "code",
   "execution_count": null,
   "metadata": {},
   "outputs": [],
   "source": [
    "import time\n",
    "import os\n",
    "\n",
    "from classy_vision.trainer import LocalTrainer\n",
    "from classy_vision.hooks import CheckpointHook\n",
    "from classy_vision.hooks import LossLrMeterLoggingHook\n",
    "\n",
    "hooks = [LossLrMeterLoggingHook(log_freq=4)]\n",
    "\n",
    "checkpoint_dir = f\"./output/classy_checkpoint_{time.time()}\"\n",
    "os.mkdir(checkpoint_dir)\n",
    "hooks.append(CheckpointHook(checkpoint_dir, input_args={}))\n",
    "\n",
    "task = task.set_hooks(hooks)\n",
    "\n",
    "trainer = LocalTrainer()\n",
    "trainer.train(task)"
   ]
  },
  {
   "cell_type": "markdown",
   "metadata": {},
   "source": [
    "## Inference"
   ]
  },
  {
   "cell_type": "code",
   "execution_count": 17,
   "metadata": {},
   "outputs": [],
   "source": [
    "from classy_vision.generic.util import load_checkpoint\n",
    "from classy_vision.models import ClassyModel\n",
    "from classy_vision import models\n",
    "\n",
    "# Update this with your actual directory:\n",
    "checkpoint_dir = f'./output/classy_checkpoint_1609164522.3747208/model_phase-178_end.torch'\n",
    "checkpoint_data = load_checkpoint(checkpoint_dir)\n",
    "model = build_model(config[\"model\"])"
   ]
  },
  {
   "cell_type": "code",
   "execution_count": 27,
   "metadata": {
    "scrolled": true
   },
   "outputs": [
    {
     "data": {
      "text/plain": [
       "<All keys matched successfully>"
      ]
     },
     "execution_count": 27,
     "metadata": {},
     "output_type": "execute_result"
    }
   ],
   "source": [
    "# Load state dict\n",
    "model.load_state_dict(checkpoint_data['classy_state_dict'][\"base_model\"][\"model\"][\"trunk\"])"
   ]
  },
  {
   "cell_type": "code",
   "execution_count": 55,
   "metadata": {},
   "outputs": [],
   "source": [
    "test_set = MyDataset(img_folder =  '/home/l/liny/ruofan/detectron2-1_website/datasets/val_imgs',\n",
    "                     annot_path ='/home/l/liny/ruofan/detectron2-1_website/datasets/val_coords.txt')"
   ]
  },
  {
   "cell_type": "code",
   "execution_count": 56,
   "metadata": {},
   "outputs": [],
   "source": [
    "test_dataloader = torch.utils.data.DataLoader(test_set, batch_size=1, shuffle=False)"
   ]
  },
  {
   "cell_type": "code",
   "execution_count": 57,
   "metadata": {
    "scrolled": true
   },
   "outputs": [],
   "source": [
    "correct = 0\n",
    "total = 0\n",
    "for j, data in enumerate(test_dataloader):\n",
    "    pred = model(data[\"input\"])\n",
    "    pred = F.softmax(pred, dim=-1).argmax(dim=-1).item()\n",
    "    if data[\"target\"] == pred:\n",
    "        correct += 1\n",
    "    total += 1"
   ]
  },
  {
   "cell_type": "code",
   "execution_count": 61,
   "metadata": {},
   "outputs": [
    {
     "name": "stdout",
     "output_type": "stream",
     "text": [
      "Testing accuracy: 0.95\n"
     ]
    }
   ],
   "source": [
    "print(\"Testing accuracy: {:.2f}\".format(correct / total))"
   ]
  },
  {
   "cell_type": "code",
   "execution_count": null,
   "metadata": {},
   "outputs": [],
   "source": []
  }
 ],
 "metadata": {
  "kernelspec": {
   "display_name": "Python 3",
   "language": "python",
   "name": "python3"
  },
  "language_info": {
   "codemirror_mode": {
    "name": "ipython",
    "version": 3
   },
   "file_extension": ".py",
   "mimetype": "text/x-python",
   "name": "python",
   "nbconvert_exporter": "python",
   "pygments_lexer": "ipython3",
   "version": "3.6.12"
  }
 },
 "nbformat": 4,
 "nbformat_minor": 4
}
